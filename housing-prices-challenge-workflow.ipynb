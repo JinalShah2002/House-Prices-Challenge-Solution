{
 "cells": [
  {
   "cell_type": "markdown",
   "metadata": {},
   "source": [
    "# House Prices: Advanced Regression Techniques\n",
    "Predict sales prices and practice feature engineering, RFs, and gradient boosting."
   ]
  },
  {
   "cell_type": "markdown",
   "metadata": {},
   "source": [
    "My goal for this project is to minimize the Root Mean Square Error as much as possible. Ideally, I would like my RSME to be 0.00044 (that is the lowest one, currently) or lower."
   ]
  },
  {
   "cell_type": "markdown",
   "metadata": {},
   "source": [
    "## Step 1: Frame the Problem"
   ]
  },
  {
   "cell_type": "markdown",
   "metadata": {},
   "source": [
    "__Business Objective:__ Using various explanatory features, build a predictive model that will be able to accurately predict the final price of a given home."
   ]
  },
  {
   "cell_type": "markdown",
   "metadata": {},
   "source": [
    "The residential homes are located in Ames, Iowa. "
   ]
  },
  {
   "cell_type": "markdown",
   "metadata": {},
   "source": [
    "We are given 79 explanatory features."
   ]
  },
  {
   "cell_type": "markdown",
   "metadata": {},
   "source": [
    "__Type of Task:__ This is a classic Regression problem."
   ]
  },
  {
   "cell_type": "markdown",
   "metadata": {},
   "source": [
    "__Performance Measure:__ We will use the Root Mean Square Error (RSME). This performance measure is most commonly used for Regression tasks. Furthermore, it is the performance measure that we are looking to minimize. We will also be taking a look at accuracy."
   ]
  },
  {
   "cell_type": "markdown",
   "metadata": {},
   "source": [
    "## Step 2: Retrieving the Data"
   ]
  },
  {
   "cell_type": "markdown",
   "metadata": {},
   "source": [
    "You may retrieve the data from the [competition website](https://www.kaggle.com/c/house-prices-advanced-regression-techniques/overview/description)."
   ]
  },
  {
   "cell_type": "markdown",
   "metadata": {},
   "source": [
    "__Data Breakdown:__\n",
    "- data_description.txt: description/information about the data\n",
    "- sample_submission.csv: what a submission should look like\n",
    "- test.csv: testing set\n",
    "- train.csv: training set"
   ]
  },
  {
   "cell_type": "code",
   "execution_count": null,
   "metadata": {},
   "outputs": [],
   "source": []
  }
 ],
 "metadata": {
  "kernelspec": {
   "display_name": "Python 3",
   "language": "python",
   "name": "python3"
  },
  "language_info": {
   "codemirror_mode": {
    "name": "ipython",
    "version": 3
   },
   "file_extension": ".py",
   "mimetype": "text/x-python",
   "name": "python",
   "nbconvert_exporter": "python",
   "pygments_lexer": "ipython3",
   "version": "3.8.3"
  }
 },
 "nbformat": 4,
 "nbformat_minor": 4
}
