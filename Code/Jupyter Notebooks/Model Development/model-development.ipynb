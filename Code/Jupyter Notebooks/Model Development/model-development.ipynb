{
 "cells": [
  {
   "cell_type": "markdown",
   "id": "understanding-store",
   "metadata": {},
   "source": [
    "# Model Development Notebook"
   ]
  },
  {
   "cell_type": "markdown",
   "id": "specified-lindsay",
   "metadata": {},
   "source": [
    "This notebook will start my exploration for the optimal model."
   ]
  },
  {
   "cell_type": "markdown",
   "id": "remarkable-pulse",
   "metadata": {},
   "source": [
    "For model development, I will start off my implementing similar models; then, I will dive into ensemble learning."
   ]
  },
  {
   "cell_type": "code",
   "execution_count": null,
   "id": "complicated-rotation",
   "metadata": {},
   "outputs": [],
   "source": []
  }
 ],
 "metadata": {
  "kernelspec": {
   "display_name": "Python 3",
   "language": "python",
   "name": "python3"
  },
  "language_info": {
   "codemirror_mode": {
    "name": "ipython",
    "version": 3
   },
   "file_extension": ".py",
   "mimetype": "text/x-python",
   "name": "python",
   "nbconvert_exporter": "python",
   "pygments_lexer": "ipython3",
   "version": "3.8.5"
  }
 },
 "nbformat": 4,
 "nbformat_minor": 5
}
